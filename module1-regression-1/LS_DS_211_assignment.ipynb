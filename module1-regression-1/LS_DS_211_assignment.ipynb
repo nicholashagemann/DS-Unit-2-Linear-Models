{
  "nbformat": 4,
  "nbformat_minor": 0,
  "metadata": {
    "colab": {
      "name": "LS_DS_211_solution.ipynb",
      "provenance": [],
      "collapsed_sections": []
    },
    "kernelspec": {
      "display_name": "Python 3",
      "language": "python",
      "name": "python3"
    },
    "language_info": {
      "codemirror_mode": {
        "name": "ipython",
        "version": 3
      },
      "file_extension": ".py",
      "mimetype": "text/x-python",
      "name": "python",
      "nbconvert_exporter": "python",
      "pygments_lexer": "ipython3",
      "version": "3.8.5"
    }
  },
  "cells": [
    {
      "cell_type": "markdown",
      "metadata": {
        "id": "PCLMk9BVqxt-"
      },
      "source": [
        "Lambda School Data Science\n",
        "\n",
        "*Unit 2, Sprint 1, Module 1*\n",
        "\n",
        "---"
      ]
    },
    {
      "cell_type": "code",
      "metadata": {
        "id": "5URUANqsqxuA"
      },
      "source": [
        "%%capture\n",
        "import sys\n",
        "\n",
        "# If you're on Colab:\n",
        "if 'google.colab' in sys.modules:\n",
        "    DATA_PATH = 'https://raw.githubusercontent.com/LambdaSchool/DS-Unit-2-Applied-Modeling/master/data/'\n",
        "\n",
        "# If you're working locally:\n",
        "else:\n",
        "    DATA_PATH = '../data/'"
      ],
      "execution_count": 7,
      "outputs": []
    },
    {
      "cell_type": "markdown",
      "metadata": {
        "id": "zj_0HtHOqxuB"
      },
      "source": [
        "# Module Project: Regression I\n",
        "\n",
        "During the guided project, we predicted how much it would cost to buy a condo in Tribecca. For the module project, your goal will be similar: predict how much it costs to rent an apartment in New York City.\n",
        "\n",
        "Dataset source: [renthop.com](https://www.renthop.com/).\n",
        "\n",
        "## Directions\n",
        "\n",
        "> Do Not Copy-Paste. You must *type* each of these exercises in, manually. If you copy and paste, you might as well not even do them. The point of these exercises is to train your hands, your brain, and your mind in how to read, write, and see code. If you copy-paste, you are cheating yourself out of the effectiveness of the lessons.\n",
        ">\n",
        "> — Zed Shaw, [Learn Python the Hard Way](https://learnpythonthehardway.org/)\n",
        "\n",
        "The tasks for this project are as follows:\n",
        "\n",
        "- **Task 1:** Import `csv` file using wrangle function.\n",
        "- **Task 2:** Conduct exploratory data analysis (EDA) and plot the relationship between one feature and the target `'price'`.\n",
        "- **Task 3:** Split data into feature matrix `X` and target vector `y`.\n",
        "- **Task 4:** Establish the baseline mean absolute error for your dataset.\n",
        "- **Task 5:** Build and train a `Linearregression` model.\n",
        "- **Task 6:** Check the mean absolute error of our model on the training data.\n",
        "- **Task 7:** Extract and print the intercept and coefficient from your `LinearRegression` model.\n",
        "\n",
        "**Note**\n",
        "\n",
        "You should limit yourself to the following libraries for this project:\n",
        "\n",
        "- `matplotlib`\n",
        "- `numpy`\n",
        "- `pandas`\n",
        "- `sklearn`"
      ]
    },
    {
      "cell_type": "markdown",
      "metadata": {
        "id": "3gmT1vEvqxuF"
      },
      "source": [
        "## I. Wrangle Data"
      ]
    },
    {
      "cell_type": "code",
      "metadata": {
        "id": "OChikn0BqxuG"
      },
      "source": [
        "import pandas as pd\n",
        "import numpy as np\n",
        "\n",
        "def wrangle(filepath):\n",
        "    df = pd.read_csv(filepath)\n",
        "    \n",
        "    # Remove the most extreme 1% prices,\n",
        "    # the most extreme .1% latitudes, &\n",
        "    # the most extreme .1% longitudes\n",
        "    df = df[(df['price'] >= np.percentile(df['price'], 0.5)) & \n",
        "            (df['price'] <= np.percentile(df['price'], 99.5)) & \n",
        "            (df['latitude'] >= np.percentile(df['latitude'], 0.05)) & \n",
        "            (df['latitude'] < np.percentile(df['latitude'], 99.95)) &\n",
        "            (df['longitude'] >= np.percentile(df['longitude'], 0.05)) & \n",
        "            (df['longitude'] <= np.percentile(df['longitude'], 99.95))]\n",
        "    \n",
        "    return df\n",
        "\n",
        "filepath = DATA_PATH + 'apartments/renthop-nyc.csv'"
      ],
      "execution_count": 15,
      "outputs": []
    },
    {
      "cell_type": "markdown",
      "metadata": {
        "id": "1Tw_GX0kqxuJ"
      },
      "source": [
        "**Task 1:** Use the above `wrangle` function to import the `renthop-nyc.csv` file into a DataFrame named `df`."
      ]
    },
    {
      "cell_type": "code",
      "metadata": {
        "colab": {
          "base_uri": "https://localhost:8080/",
          "height": 504
        },
        "id": "77bF8VgMqxuL",
        "outputId": "7bf65ad6-f53a-4701-9c40-d03334d137a5"
      },
      "source": [
        "df = wrangle(filepath)\n",
        "df.head()"
      ],
      "execution_count": 16,
      "outputs": [
        {
          "output_type": "execute_result",
          "data": {
            "text/html": [
              "<div>\n",
              "<style scoped>\n",
              "    .dataframe tbody tr th:only-of-type {\n",
              "        vertical-align: middle;\n",
              "    }\n",
              "\n",
              "    .dataframe tbody tr th {\n",
              "        vertical-align: top;\n",
              "    }\n",
              "\n",
              "    .dataframe thead th {\n",
              "        text-align: right;\n",
              "    }\n",
              "</style>\n",
              "<table border=\"1\" class=\"dataframe\">\n",
              "  <thead>\n",
              "    <tr style=\"text-align: right;\">\n",
              "      <th></th>\n",
              "      <th>bathrooms</th>\n",
              "      <th>bedrooms</th>\n",
              "      <th>created</th>\n",
              "      <th>description</th>\n",
              "      <th>display_address</th>\n",
              "      <th>latitude</th>\n",
              "      <th>longitude</th>\n",
              "      <th>price</th>\n",
              "      <th>street_address</th>\n",
              "      <th>interest_level</th>\n",
              "      <th>elevator</th>\n",
              "      <th>cats_allowed</th>\n",
              "      <th>hardwood_floors</th>\n",
              "      <th>dogs_allowed</th>\n",
              "      <th>doorman</th>\n",
              "      <th>dishwasher</th>\n",
              "      <th>no_fee</th>\n",
              "      <th>laundry_in_building</th>\n",
              "      <th>fitness_center</th>\n",
              "      <th>pre-war</th>\n",
              "      <th>laundry_in_unit</th>\n",
              "      <th>roof_deck</th>\n",
              "      <th>outdoor_space</th>\n",
              "      <th>dining_room</th>\n",
              "      <th>high_speed_internet</th>\n",
              "      <th>balcony</th>\n",
              "      <th>swimming_pool</th>\n",
              "      <th>new_construction</th>\n",
              "      <th>terrace</th>\n",
              "      <th>exclusive</th>\n",
              "      <th>loft</th>\n",
              "      <th>garden_patio</th>\n",
              "      <th>wheelchair_access</th>\n",
              "      <th>common_outdoor_space</th>\n",
              "    </tr>\n",
              "  </thead>\n",
              "  <tbody>\n",
              "    <tr>\n",
              "      <th>0</th>\n",
              "      <td>1.5</td>\n",
              "      <td>3</td>\n",
              "      <td>2016-06-24 07:54:24</td>\n",
              "      <td>A Brand New 3 Bedroom 1.5 bath ApartmentEnjoy ...</td>\n",
              "      <td>Metropolitan Avenue</td>\n",
              "      <td>40.7145</td>\n",
              "      <td>-73.9425</td>\n",
              "      <td>3000</td>\n",
              "      <td>792 Metropolitan Avenue</td>\n",
              "      <td>medium</td>\n",
              "      <td>0</td>\n",
              "      <td>0</td>\n",
              "      <td>0</td>\n",
              "      <td>0</td>\n",
              "      <td>0</td>\n",
              "      <td>0</td>\n",
              "      <td>0</td>\n",
              "      <td>0</td>\n",
              "      <td>0</td>\n",
              "      <td>0</td>\n",
              "      <td>0</td>\n",
              "      <td>0</td>\n",
              "      <td>0</td>\n",
              "      <td>0</td>\n",
              "      <td>0</td>\n",
              "      <td>0</td>\n",
              "      <td>0</td>\n",
              "      <td>0</td>\n",
              "      <td>0</td>\n",
              "      <td>0</td>\n",
              "      <td>0</td>\n",
              "      <td>0</td>\n",
              "      <td>0</td>\n",
              "      <td>0</td>\n",
              "    </tr>\n",
              "    <tr>\n",
              "      <th>1</th>\n",
              "      <td>1.0</td>\n",
              "      <td>2</td>\n",
              "      <td>2016-06-12 12:19:27</td>\n",
              "      <td></td>\n",
              "      <td>Columbus Avenue</td>\n",
              "      <td>40.7947</td>\n",
              "      <td>-73.9667</td>\n",
              "      <td>5465</td>\n",
              "      <td>808 Columbus Avenue</td>\n",
              "      <td>low</td>\n",
              "      <td>1</td>\n",
              "      <td>1</td>\n",
              "      <td>0</td>\n",
              "      <td>1</td>\n",
              "      <td>1</td>\n",
              "      <td>0</td>\n",
              "      <td>0</td>\n",
              "      <td>0</td>\n",
              "      <td>1</td>\n",
              "      <td>0</td>\n",
              "      <td>0</td>\n",
              "      <td>0</td>\n",
              "      <td>0</td>\n",
              "      <td>0</td>\n",
              "      <td>0</td>\n",
              "      <td>0</td>\n",
              "      <td>0</td>\n",
              "      <td>0</td>\n",
              "      <td>0</td>\n",
              "      <td>0</td>\n",
              "      <td>0</td>\n",
              "      <td>0</td>\n",
              "      <td>0</td>\n",
              "      <td>0</td>\n",
              "    </tr>\n",
              "    <tr>\n",
              "      <th>2</th>\n",
              "      <td>1.0</td>\n",
              "      <td>1</td>\n",
              "      <td>2016-04-17 03:26:41</td>\n",
              "      <td>Top Top West Village location, beautiful Pre-w...</td>\n",
              "      <td>W 13 Street</td>\n",
              "      <td>40.7388</td>\n",
              "      <td>-74.0018</td>\n",
              "      <td>2850</td>\n",
              "      <td>241 W 13 Street</td>\n",
              "      <td>high</td>\n",
              "      <td>0</td>\n",
              "      <td>0</td>\n",
              "      <td>1</td>\n",
              "      <td>0</td>\n",
              "      <td>0</td>\n",
              "      <td>1</td>\n",
              "      <td>0</td>\n",
              "      <td>1</td>\n",
              "      <td>0</td>\n",
              "      <td>0</td>\n",
              "      <td>0</td>\n",
              "      <td>0</td>\n",
              "      <td>0</td>\n",
              "      <td>0</td>\n",
              "      <td>0</td>\n",
              "      <td>0</td>\n",
              "      <td>0</td>\n",
              "      <td>0</td>\n",
              "      <td>0</td>\n",
              "      <td>0</td>\n",
              "      <td>0</td>\n",
              "      <td>0</td>\n",
              "      <td>0</td>\n",
              "      <td>0</td>\n",
              "    </tr>\n",
              "    <tr>\n",
              "      <th>3</th>\n",
              "      <td>1.0</td>\n",
              "      <td>1</td>\n",
              "      <td>2016-04-18 02:22:02</td>\n",
              "      <td>Building Amenities - Garage - Garden - fitness...</td>\n",
              "      <td>East 49th Street</td>\n",
              "      <td>40.7539</td>\n",
              "      <td>-73.9677</td>\n",
              "      <td>3275</td>\n",
              "      <td>333 East 49th Street</td>\n",
              "      <td>low</td>\n",
              "      <td>0</td>\n",
              "      <td>0</td>\n",
              "      <td>1</td>\n",
              "      <td>0</td>\n",
              "      <td>0</td>\n",
              "      <td>0</td>\n",
              "      <td>1</td>\n",
              "      <td>0</td>\n",
              "      <td>0</td>\n",
              "      <td>0</td>\n",
              "      <td>0</td>\n",
              "      <td>0</td>\n",
              "      <td>0</td>\n",
              "      <td>0</td>\n",
              "      <td>0</td>\n",
              "      <td>0</td>\n",
              "      <td>0</td>\n",
              "      <td>0</td>\n",
              "      <td>0</td>\n",
              "      <td>0</td>\n",
              "      <td>0</td>\n",
              "      <td>0</td>\n",
              "      <td>0</td>\n",
              "      <td>0</td>\n",
              "    </tr>\n",
              "    <tr>\n",
              "      <th>4</th>\n",
              "      <td>1.0</td>\n",
              "      <td>4</td>\n",
              "      <td>2016-04-28 01:32:41</td>\n",
              "      <td>Beautifully renovated 3 bedroom flex 4 bedroom...</td>\n",
              "      <td>West 143rd Street</td>\n",
              "      <td>40.8241</td>\n",
              "      <td>-73.9493</td>\n",
              "      <td>3350</td>\n",
              "      <td>500 West 143rd Street</td>\n",
              "      <td>low</td>\n",
              "      <td>0</td>\n",
              "      <td>0</td>\n",
              "      <td>0</td>\n",
              "      <td>0</td>\n",
              "      <td>0</td>\n",
              "      <td>0</td>\n",
              "      <td>0</td>\n",
              "      <td>0</td>\n",
              "      <td>0</td>\n",
              "      <td>1</td>\n",
              "      <td>0</td>\n",
              "      <td>0</td>\n",
              "      <td>0</td>\n",
              "      <td>0</td>\n",
              "      <td>0</td>\n",
              "      <td>0</td>\n",
              "      <td>0</td>\n",
              "      <td>0</td>\n",
              "      <td>0</td>\n",
              "      <td>0</td>\n",
              "      <td>0</td>\n",
              "      <td>0</td>\n",
              "      <td>0</td>\n",
              "      <td>0</td>\n",
              "    </tr>\n",
              "  </tbody>\n",
              "</table>\n",
              "</div>"
            ],
            "text/plain": [
              "   bathrooms  bedrooms  ... wheelchair_access common_outdoor_space\n",
              "0        1.5         3  ...                 0                    0\n",
              "1        1.0         2  ...                 0                    0\n",
              "2        1.0         1  ...                 0                    0\n",
              "3        1.0         1  ...                 0                    0\n",
              "4        1.0         4  ...                 0                    0\n",
              "\n",
              "[5 rows x 34 columns]"
            ]
          },
          "metadata": {
            "tags": []
          },
          "execution_count": 16
        }
      ]
    },
    {
      "cell_type": "markdown",
      "metadata": {
        "id": "7UYUaBczqxuN"
      },
      "source": [
        "**Task 2:** Use your `pandas` and dataviz skills to explore the dataset. As part of this process, make a scatter plot that shows the relationship between one of the numerical features in the dataset and the target `'price'`.\n",
        "\n",
        "**Remember:** You should plot your feature on the `X` axis and your target on the `y` axis."
      ]
    },
    {
      "cell_type": "code",
      "metadata": {
        "colab": {
          "base_uri": "https://localhost:8080/"
        },
        "id": "WZbA1HZLqxuO",
        "outputId": "bb90104a-351d-44dc-aeb3-126b601e95b7"
      },
      "source": [
        "import matplotlib.pyplot as plt\n",
        "\n",
        "df.nunique()"
      ],
      "execution_count": 20,
      "outputs": [
        {
          "output_type": "execute_result",
          "data": {
            "text/plain": [
              "bathrooms                  11\n",
              "bedrooms                    9\n",
              "created                 48148\n",
              "description             37853\n",
              "display_address          8674\n",
              "latitude                 2265\n",
              "longitude                1605\n",
              "price                    2685\n",
              "street_address          15135\n",
              "interest_level              3\n",
              "elevator                    2\n",
              "cats_allowed                2\n",
              "hardwood_floors             2\n",
              "dogs_allowed                2\n",
              "doorman                     2\n",
              "dishwasher                  2\n",
              "no_fee                      2\n",
              "laundry_in_building         2\n",
              "fitness_center              2\n",
              "pre-war                     2\n",
              "laundry_in_unit             2\n",
              "roof_deck                   2\n",
              "outdoor_space               2\n",
              "dining_room                 2\n",
              "high_speed_internet         2\n",
              "balcony                     2\n",
              "swimming_pool               2\n",
              "new_construction            2\n",
              "terrace                     2\n",
              "exclusive                   2\n",
              "loft                        2\n",
              "garden_patio                2\n",
              "wheelchair_access           2\n",
              "common_outdoor_space        2\n",
              "dtype: int64"
            ]
          },
          "metadata": {
            "tags": []
          },
          "execution_count": 20
        }
      ]
    },
    {
      "cell_type": "code",
      "metadata": {
        "colab": {
          "base_uri": "https://localhost:8080/",
          "height": 320
        },
        "id": "DOFPimMBuKil",
        "outputId": "df3ffc86-279d-477a-da9f-6e8b0038bf55"
      },
      "source": [
        "df.describe()"
      ],
      "execution_count": 21,
      "outputs": [
        {
          "output_type": "execute_result",
          "data": {
            "text/html": [
              "<div>\n",
              "<style scoped>\n",
              "    .dataframe tbody tr th:only-of-type {\n",
              "        vertical-align: middle;\n",
              "    }\n",
              "\n",
              "    .dataframe tbody tr th {\n",
              "        vertical-align: top;\n",
              "    }\n",
              "\n",
              "    .dataframe thead th {\n",
              "        text-align: right;\n",
              "    }\n",
              "</style>\n",
              "<table border=\"1\" class=\"dataframe\">\n",
              "  <thead>\n",
              "    <tr style=\"text-align: right;\">\n",
              "      <th></th>\n",
              "      <th>bathrooms</th>\n",
              "      <th>bedrooms</th>\n",
              "      <th>latitude</th>\n",
              "      <th>longitude</th>\n",
              "      <th>price</th>\n",
              "      <th>elevator</th>\n",
              "      <th>cats_allowed</th>\n",
              "      <th>hardwood_floors</th>\n",
              "      <th>dogs_allowed</th>\n",
              "      <th>doorman</th>\n",
              "      <th>dishwasher</th>\n",
              "      <th>no_fee</th>\n",
              "      <th>laundry_in_building</th>\n",
              "      <th>fitness_center</th>\n",
              "      <th>pre-war</th>\n",
              "      <th>laundry_in_unit</th>\n",
              "      <th>roof_deck</th>\n",
              "      <th>outdoor_space</th>\n",
              "      <th>dining_room</th>\n",
              "      <th>high_speed_internet</th>\n",
              "      <th>balcony</th>\n",
              "      <th>swimming_pool</th>\n",
              "      <th>new_construction</th>\n",
              "      <th>terrace</th>\n",
              "      <th>exclusive</th>\n",
              "      <th>loft</th>\n",
              "      <th>garden_patio</th>\n",
              "      <th>wheelchair_access</th>\n",
              "      <th>common_outdoor_space</th>\n",
              "    </tr>\n",
              "  </thead>\n",
              "  <tbody>\n",
              "    <tr>\n",
              "      <th>count</th>\n",
              "      <td>48817.000000</td>\n",
              "      <td>48817.000000</td>\n",
              "      <td>48817.000000</td>\n",
              "      <td>48817.000000</td>\n",
              "      <td>48817.000000</td>\n",
              "      <td>48817.000000</td>\n",
              "      <td>48817.000000</td>\n",
              "      <td>48817.000000</td>\n",
              "      <td>48817.000000</td>\n",
              "      <td>48817.000000</td>\n",
              "      <td>48817.000000</td>\n",
              "      <td>48817.000000</td>\n",
              "      <td>48817.000000</td>\n",
              "      <td>48817.000000</td>\n",
              "      <td>48817.000000</td>\n",
              "      <td>48817.000000</td>\n",
              "      <td>48817.000000</td>\n",
              "      <td>48817.000000</td>\n",
              "      <td>48817.000000</td>\n",
              "      <td>48817.000000</td>\n",
              "      <td>48817.000000</td>\n",
              "      <td>48817.000000</td>\n",
              "      <td>48817.000000</td>\n",
              "      <td>48817.000000</td>\n",
              "      <td>48817.000000</td>\n",
              "      <td>48817.000000</td>\n",
              "      <td>48817.000000</td>\n",
              "      <td>48817.000000</td>\n",
              "      <td>48817.000000</td>\n",
              "    </tr>\n",
              "    <tr>\n",
              "      <th>mean</th>\n",
              "      <td>1.201794</td>\n",
              "      <td>1.537149</td>\n",
              "      <td>40.750760</td>\n",
              "      <td>-73.972760</td>\n",
              "      <td>3579.585247</td>\n",
              "      <td>0.524838</td>\n",
              "      <td>0.478276</td>\n",
              "      <td>0.478276</td>\n",
              "      <td>0.447631</td>\n",
              "      <td>0.424852</td>\n",
              "      <td>0.415081</td>\n",
              "      <td>0.367085</td>\n",
              "      <td>0.052769</td>\n",
              "      <td>0.268452</td>\n",
              "      <td>0.185653</td>\n",
              "      <td>0.175902</td>\n",
              "      <td>0.132761</td>\n",
              "      <td>0.138394</td>\n",
              "      <td>0.102833</td>\n",
              "      <td>0.087203</td>\n",
              "      <td>0.060471</td>\n",
              "      <td>0.055206</td>\n",
              "      <td>0.051908</td>\n",
              "      <td>0.046193</td>\n",
              "      <td>0.043305</td>\n",
              "      <td>0.042711</td>\n",
              "      <td>0.039331</td>\n",
              "      <td>0.027224</td>\n",
              "      <td>0.026241</td>\n",
              "    </tr>\n",
              "    <tr>\n",
              "      <th>std</th>\n",
              "      <td>0.470711</td>\n",
              "      <td>1.106087</td>\n",
              "      <td>0.038954</td>\n",
              "      <td>0.028883</td>\n",
              "      <td>1762.430772</td>\n",
              "      <td>0.499388</td>\n",
              "      <td>0.499533</td>\n",
              "      <td>0.499533</td>\n",
              "      <td>0.497255</td>\n",
              "      <td>0.494326</td>\n",
              "      <td>0.492741</td>\n",
              "      <td>0.482015</td>\n",
              "      <td>0.223573</td>\n",
              "      <td>0.443158</td>\n",
              "      <td>0.388830</td>\n",
              "      <td>0.380741</td>\n",
              "      <td>0.339320</td>\n",
              "      <td>0.345317</td>\n",
              "      <td>0.303744</td>\n",
              "      <td>0.282136</td>\n",
              "      <td>0.238359</td>\n",
              "      <td>0.228385</td>\n",
              "      <td>0.221844</td>\n",
              "      <td>0.209905</td>\n",
              "      <td>0.203544</td>\n",
              "      <td>0.202206</td>\n",
              "      <td>0.194382</td>\n",
              "      <td>0.162738</td>\n",
              "      <td>0.159852</td>\n",
              "    </tr>\n",
              "    <tr>\n",
              "      <th>min</th>\n",
              "      <td>0.000000</td>\n",
              "      <td>0.000000</td>\n",
              "      <td>40.575700</td>\n",
              "      <td>-74.087300</td>\n",
              "      <td>1375.000000</td>\n",
              "      <td>0.000000</td>\n",
              "      <td>0.000000</td>\n",
              "      <td>0.000000</td>\n",
              "      <td>0.000000</td>\n",
              "      <td>0.000000</td>\n",
              "      <td>0.000000</td>\n",
              "      <td>0.000000</td>\n",
              "      <td>0.000000</td>\n",
              "      <td>0.000000</td>\n",
              "      <td>0.000000</td>\n",
              "      <td>0.000000</td>\n",
              "      <td>0.000000</td>\n",
              "      <td>0.000000</td>\n",
              "      <td>0.000000</td>\n",
              "      <td>0.000000</td>\n",
              "      <td>0.000000</td>\n",
              "      <td>0.000000</td>\n",
              "      <td>0.000000</td>\n",
              "      <td>0.000000</td>\n",
              "      <td>0.000000</td>\n",
              "      <td>0.000000</td>\n",
              "      <td>0.000000</td>\n",
              "      <td>0.000000</td>\n",
              "      <td>0.000000</td>\n",
              "    </tr>\n",
              "    <tr>\n",
              "      <th>25%</th>\n",
              "      <td>1.000000</td>\n",
              "      <td>1.000000</td>\n",
              "      <td>40.728300</td>\n",
              "      <td>-73.991800</td>\n",
              "      <td>2500.000000</td>\n",
              "      <td>0.000000</td>\n",
              "      <td>0.000000</td>\n",
              "      <td>0.000000</td>\n",
              "      <td>0.000000</td>\n",
              "      <td>0.000000</td>\n",
              "      <td>0.000000</td>\n",
              "      <td>0.000000</td>\n",
              "      <td>0.000000</td>\n",
              "      <td>0.000000</td>\n",
              "      <td>0.000000</td>\n",
              "      <td>0.000000</td>\n",
              "      <td>0.000000</td>\n",
              "      <td>0.000000</td>\n",
              "      <td>0.000000</td>\n",
              "      <td>0.000000</td>\n",
              "      <td>0.000000</td>\n",
              "      <td>0.000000</td>\n",
              "      <td>0.000000</td>\n",
              "      <td>0.000000</td>\n",
              "      <td>0.000000</td>\n",
              "      <td>0.000000</td>\n",
              "      <td>0.000000</td>\n",
              "      <td>0.000000</td>\n",
              "      <td>0.000000</td>\n",
              "    </tr>\n",
              "    <tr>\n",
              "      <th>50%</th>\n",
              "      <td>1.000000</td>\n",
              "      <td>1.000000</td>\n",
              "      <td>40.751700</td>\n",
              "      <td>-73.978000</td>\n",
              "      <td>3150.000000</td>\n",
              "      <td>1.000000</td>\n",
              "      <td>0.000000</td>\n",
              "      <td>0.000000</td>\n",
              "      <td>0.000000</td>\n",
              "      <td>0.000000</td>\n",
              "      <td>0.000000</td>\n",
              "      <td>0.000000</td>\n",
              "      <td>0.000000</td>\n",
              "      <td>0.000000</td>\n",
              "      <td>0.000000</td>\n",
              "      <td>0.000000</td>\n",
              "      <td>0.000000</td>\n",
              "      <td>0.000000</td>\n",
              "      <td>0.000000</td>\n",
              "      <td>0.000000</td>\n",
              "      <td>0.000000</td>\n",
              "      <td>0.000000</td>\n",
              "      <td>0.000000</td>\n",
              "      <td>0.000000</td>\n",
              "      <td>0.000000</td>\n",
              "      <td>0.000000</td>\n",
              "      <td>0.000000</td>\n",
              "      <td>0.000000</td>\n",
              "      <td>0.000000</td>\n",
              "    </tr>\n",
              "    <tr>\n",
              "      <th>75%</th>\n",
              "      <td>1.000000</td>\n",
              "      <td>2.000000</td>\n",
              "      <td>40.774000</td>\n",
              "      <td>-73.955000</td>\n",
              "      <td>4095.000000</td>\n",
              "      <td>1.000000</td>\n",
              "      <td>1.000000</td>\n",
              "      <td>1.000000</td>\n",
              "      <td>1.000000</td>\n",
              "      <td>1.000000</td>\n",
              "      <td>1.000000</td>\n",
              "      <td>1.000000</td>\n",
              "      <td>0.000000</td>\n",
              "      <td>1.000000</td>\n",
              "      <td>0.000000</td>\n",
              "      <td>0.000000</td>\n",
              "      <td>0.000000</td>\n",
              "      <td>0.000000</td>\n",
              "      <td>0.000000</td>\n",
              "      <td>0.000000</td>\n",
              "      <td>0.000000</td>\n",
              "      <td>0.000000</td>\n",
              "      <td>0.000000</td>\n",
              "      <td>0.000000</td>\n",
              "      <td>0.000000</td>\n",
              "      <td>0.000000</td>\n",
              "      <td>0.000000</td>\n",
              "      <td>0.000000</td>\n",
              "      <td>0.000000</td>\n",
              "    </tr>\n",
              "    <tr>\n",
              "      <th>max</th>\n",
              "      <td>10.000000</td>\n",
              "      <td>8.000000</td>\n",
              "      <td>40.989400</td>\n",
              "      <td>-73.700100</td>\n",
              "      <td>15500.000000</td>\n",
              "      <td>1.000000</td>\n",
              "      <td>1.000000</td>\n",
              "      <td>1.000000</td>\n",
              "      <td>1.000000</td>\n",
              "      <td>1.000000</td>\n",
              "      <td>1.000000</td>\n",
              "      <td>1.000000</td>\n",
              "      <td>1.000000</td>\n",
              "      <td>1.000000</td>\n",
              "      <td>1.000000</td>\n",
              "      <td>1.000000</td>\n",
              "      <td>1.000000</td>\n",
              "      <td>1.000000</td>\n",
              "      <td>1.000000</td>\n",
              "      <td>1.000000</td>\n",
              "      <td>1.000000</td>\n",
              "      <td>1.000000</td>\n",
              "      <td>1.000000</td>\n",
              "      <td>1.000000</td>\n",
              "      <td>1.000000</td>\n",
              "      <td>1.000000</td>\n",
              "      <td>1.000000</td>\n",
              "      <td>1.000000</td>\n",
              "      <td>1.000000</td>\n",
              "    </tr>\n",
              "  </tbody>\n",
              "</table>\n",
              "</div>"
            ],
            "text/plain": [
              "          bathrooms      bedrooms  ...  wheelchair_access  common_outdoor_space\n",
              "count  48817.000000  48817.000000  ...       48817.000000          48817.000000\n",
              "mean       1.201794      1.537149  ...           0.027224              0.026241\n",
              "std        0.470711      1.106087  ...           0.162738              0.159852\n",
              "min        0.000000      0.000000  ...           0.000000              0.000000\n",
              "25%        1.000000      1.000000  ...           0.000000              0.000000\n",
              "50%        1.000000      1.000000  ...           0.000000              0.000000\n",
              "75%        1.000000      2.000000  ...           0.000000              0.000000\n",
              "max       10.000000      8.000000  ...           1.000000              1.000000\n",
              "\n",
              "[8 rows x 29 columns]"
            ]
          },
          "metadata": {
            "tags": []
          },
          "execution_count": 21
        }
      ]
    },
    {
      "cell_type": "code",
      "metadata": {
        "colab": {
          "base_uri": "https://localhost:8080/"
        },
        "id": "9Q6vkjR01_Dh",
        "outputId": "057876a0-2fff-409f-8672-8917bf95c3d6"
      },
      "source": [
        "df.info()"
      ],
      "execution_count": 22,
      "outputs": [
        {
          "output_type": "stream",
          "text": [
            "<class 'pandas.core.frame.DataFrame'>\n",
            "Int64Index: 48817 entries, 0 to 49351\n",
            "Data columns (total 34 columns):\n",
            " #   Column                Non-Null Count  Dtype  \n",
            "---  ------                --------------  -----  \n",
            " 0   bathrooms             48817 non-null  float64\n",
            " 1   bedrooms              48817 non-null  int64  \n",
            " 2   created               48817 non-null  object \n",
            " 3   description           47392 non-null  object \n",
            " 4   display_address       48684 non-null  object \n",
            " 5   latitude              48817 non-null  float64\n",
            " 6   longitude             48817 non-null  float64\n",
            " 7   price                 48817 non-null  int64  \n",
            " 8   street_address        48807 non-null  object \n",
            " 9   interest_level        48817 non-null  object \n",
            " 10  elevator              48817 non-null  int64  \n",
            " 11  cats_allowed          48817 non-null  int64  \n",
            " 12  hardwood_floors       48817 non-null  int64  \n",
            " 13  dogs_allowed          48817 non-null  int64  \n",
            " 14  doorman               48817 non-null  int64  \n",
            " 15  dishwasher            48817 non-null  int64  \n",
            " 16  no_fee                48817 non-null  int64  \n",
            " 17  laundry_in_building   48817 non-null  int64  \n",
            " 18  fitness_center        48817 non-null  int64  \n",
            " 19  pre-war               48817 non-null  int64  \n",
            " 20  laundry_in_unit       48817 non-null  int64  \n",
            " 21  roof_deck             48817 non-null  int64  \n",
            " 22  outdoor_space         48817 non-null  int64  \n",
            " 23  dining_room           48817 non-null  int64  \n",
            " 24  high_speed_internet   48817 non-null  int64  \n",
            " 25  balcony               48817 non-null  int64  \n",
            " 26  swimming_pool         48817 non-null  int64  \n",
            " 27  new_construction      48817 non-null  int64  \n",
            " 28  terrace               48817 non-null  int64  \n",
            " 29  exclusive             48817 non-null  int64  \n",
            " 30  loft                  48817 non-null  int64  \n",
            " 31  garden_patio          48817 non-null  int64  \n",
            " 32  wheelchair_access     48817 non-null  int64  \n",
            " 33  common_outdoor_space  48817 non-null  int64  \n",
            "dtypes: float64(3), int64(26), object(5)\n",
            "memory usage: 13.0+ MB\n"
          ],
          "name": "stdout"
        }
      ]
    },
    {
      "cell_type": "code",
      "metadata": {
        "colab": {
          "base_uri": "https://localhost:8080/",
          "height": 298
        },
        "id": "CXuV5eAh2CgR",
        "outputId": "daab0032-6bd3-48be-ef64-099aaf01124e"
      },
      "source": [
        "plt.scatter(df['bathrooms'], df['price'])\n",
        "plt.xlabel('Bathrooms')\n",
        "plt.ylabel('Price')"
      ],
      "execution_count": 23,
      "outputs": [
        {
          "output_type": "execute_result",
          "data": {
            "text/plain": [
              "Text(0, 0.5, 'Price')"
            ]
          },
          "metadata": {
            "tags": []
          },
          "execution_count": 23
        },
        {
          "output_type": "display_data",
          "data": {
            "image/png": "[encoded data removed]",
            "text/plain": [
              "<Figure size 432x288 with 1 Axes>"
            ]
          },
          "metadata": {
            "tags": [],
            "needs_background": "light"
          }
        }
      ]
    },
    {
      "cell_type": "code",
      "metadata": {
        "colab": {
          "base_uri": "https://localhost:8080/",
          "height": 298
        },
        "id": "rS0ELZjM2OqL",
        "outputId": "72ddd479-a5f2-4738-adbc-16f50136a2eb"
      },
      "source": [
        "plt.scatter(df['bedrooms'], df['price'])\n",
        "plt.xlabel('Bedrooms')\n",
        "plt.ylabel('Price')"
      ],
      "execution_count": 25,
      "outputs": [
        {
          "output_type": "execute_result",
          "data": {
            "text/plain": [
              "Text(0, 0.5, 'Price')"
            ]
          },
          "metadata": {
            "tags": []
          },
          "execution_count": 25
        },
        {
          "output_type": "display_data",
          "data": {
            "image/png": "[encoded data removed]",
            "text/plain": [
              "<Figure size 432x288 with 1 Axes>"
            ]
          },
          "metadata": {
            "tags": [],
            "needs_background": "light"
          }
        }
      ]
    },
    {
      "cell_type": "code",
      "metadata": {
        "colab": {
          "base_uri": "https://localhost:8080/",
          "height": 284
        },
        "id": "tYTFOkjk2h4E",
        "outputId": "7b01833a-7387-4052-d607-30e87fb70108"
      },
      "source": [
        "plt.scatter(df['latitude'], df['price'])"
      ],
      "execution_count": 26,
      "outputs": [
        {
          "output_type": "execute_result",
          "data": {
            "text/plain": [
              "<matplotlib.collections.PathCollection at 0x7faab90b2f50>"
            ]
          },
          "metadata": {
            "tags": []
          },
          "execution_count": 26
        },
        {
          "output_type": "display_data",
          "data": {
            "image/png": "[encoded data removed]",
            "text/plain": [
              "<Figure size 432x288 with 1 Axes>"
            ]
          },
          "metadata": {
            "tags": [],
            "needs_background": "light"
          }
        }
      ]
    },
    {
      "cell_type": "code",
      "metadata": {
        "colab": {
          "base_uri": "https://localhost:8080/",
          "height": 284
        },
        "id": "feQ_uL3q2t09",
        "outputId": "04f5c8c4-8fd0-43a6-bead-112a7d8a0c4c"
      },
      "source": [
        "plt.scatter(df['longitude'], df['price'])"
      ],
      "execution_count": 27,
      "outputs": [
        {
          "output_type": "execute_result",
          "data": {
            "text/plain": [
              "<matplotlib.collections.PathCollection at 0x7faab8fb9d50>"
            ]
          },
          "metadata": {
            "tags": []
          },
          "execution_count": 27
        },
        {
          "output_type": "display_data",
          "data": {
            "image/png": "[encoded data removed]",
            "text/plain": [
              "<Figure size 432x288 with 1 Axes>"
            ]
          },
          "metadata": {
            "tags": [],
            "needs_background": "light"
          }
        }
      ]
    },
    {
      "cell_type": "markdown",
      "metadata": {
        "id": "-K78OCsaqxuQ"
      },
      "source": [
        "#  II. Split Data\n",
        "\n",
        "**Task 3:** Choose one feature from the dataset and assign it to your feature matrix `X`. Then assign the column `'price'` to the target vector `y`.\n",
        "\n",
        "**Remember:** Your feature matrix needs to be two-dimensional, but your feature matrix must be one-dimensional."
      ]
    },
    {
      "cell_type": "code",
      "metadata": {
        "colab": {
          "base_uri": "https://localhost:8080/"
        },
        "id": "sRn9uCwZqxuS",
        "outputId": "269ba104-b470-4c6f-d400-1560c8d23ad6"
      },
      "source": [
        "x = df[['bathrooms']]\n",
        "y = df[['price']]\n",
        "print(f'Shape of x is {x.shape} and shape of y is {y.shape}.')"
      ],
      "execution_count": 29,
      "outputs": [
        {
          "output_type": "stream",
          "text": [
            "Shape of x is (48817, 1) and shape of y is (48817, 1).\n"
          ],
          "name": "stdout"
        }
      ]
    },
    {
      "cell_type": "markdown",
      "metadata": {
        "id": "E0Rx27OVqxuT"
      },
      "source": [
        "# III. Establish Baseline\n",
        "\n",
        "**Task 4:** Since this is a **regression** problem, you need to calculate the baseline the mean absolute error for your model. First, calculate the mean of `y`. Next, create a list `y_pred` that has the same length as `y` and where every item in the list is the mean. Finally, use `mean_absolute_error` to calculate your baseline."
      ]
    },
    {
      "cell_type": "code",
      "metadata": {
        "colab": {
          "base_uri": "https://localhost:8080/"
        },
        "id": "2g-z-qRlqxuU",
        "outputId": "70a5dc7f-8ef1-4a8b-9218-596fe13bb46a"
      },
      "source": [
        "from sklearn.metrics import mean_absolute_error\n",
        "\n",
        "y_pred = [y.mean()]*len(y)\n",
        "\n",
        "baseline_mae = mean_absolute_error(y, y_pred)\n",
        "print('Baseline MAE:', baseline_mae)"
      ],
      "execution_count": 30,
      "outputs": [
        {
          "output_type": "stream",
          "text": [
            "Baseline MAE: 1201.532252154329\n"
          ],
          "name": "stdout"
        }
      ]
    },
    {
      "cell_type": "markdown",
      "metadata": {
        "id": "BHpgPaN0qxuV"
      },
      "source": [
        "# IV. Build Model\n",
        "\n",
        "**Task 5:** Build and train a `LinearRegression` model named `model` using your feature matrix `X` and your target vector `y`."
      ]
    },
    {
      "cell_type": "code",
      "metadata": {
        "colab": {
          "base_uri": "https://localhost:8080/"
        },
        "id": "Ug2LUTkuqxuW",
        "outputId": "981c99e9-6dbe-4567-d1e8-5632b744d51b"
      },
      "source": [
        "# Step 1: Import predictor class\n",
        "from sklearn.linear_model import LinearRegression\n",
        "\n",
        "# Step 2: Instantiate predictor\n",
        "model = LinearRegression()\n",
        "\n",
        "# Step 3: Fit predictor on the (training) data\n",
        "model.fit(x,y)"
      ],
      "execution_count": 32,
      "outputs": [
        {
          "output_type": "execute_result",
          "data": {
            "text/plain": [
              "LinearRegression(copy_X=True, fit_intercept=True, n_jobs=None, normalize=False)"
            ]
          },
          "metadata": {
            "tags": []
          },
          "execution_count": 32
        }
      ]
    },
    {
      "cell_type": "markdown",
      "metadata": {
        "id": "dF68ZmccqxuW"
      },
      "source": [
        "# V. Check Metrics\n",
        "\n",
        "**Task 6:** How does your model perform in comparison to your baseline? Calculate the mean absolute error for your model's predictions."
      ]
    },
    {
      "cell_type": "code",
      "metadata": {
        "colab": {
          "base_uri": "https://localhost:8080/"
        },
        "id": "LGSQY1ZHqxuW",
        "outputId": "96f96902-7b7a-4a0b-a087-37bd3d159682"
      },
      "source": [
        "training_mae = mean_absolute_error(x,y)\n",
        "\n",
        "print('Training MAE:', training_mae)"
      ],
      "execution_count": 33,
      "outputs": [
        {
          "output_type": "stream",
          "text": [
            "Training MAE: 3578.3834524858144\n"
          ],
          "name": "stdout"
        }
      ]
    },
    {
      "cell_type": "markdown",
      "metadata": {
        "id": "n5okEia4qxuX"
      },
      "source": [
        "# VI. Communicate Results \n",
        "\n",
        "You've just created a linear model. That means that your model makes predictions using an equation that looks like $\\texttt{apt price} = \\texttt{intercept}~+~\\texttt{coefficient}~\\times~\\texttt{your feature}$. But what are the values of the intercept and coefficient that your model is using? \n",
        "\n",
        "**Task 7:** Print out the intercept and coefficient associated with `model`."
      ]
    },
    {
      "cell_type": "code",
      "metadata": {
        "colab": {
          "base_uri": "https://localhost:8080/"
        },
        "id": "teMgNR7YqxuY",
        "outputId": "8421565f-a71d-44df-c656-9c7591384079"
      },
      "source": [
        "slope = model.coef_[0]\n",
        "intercept = model.intercept_\n",
        "print(f'Using a linear regression to predict the price from the number of bathrooms, the intercept is {intercept} and the slope is {slope}.')\n",
        "print(f'The mean error is {training_mae}.')\n",
        "print(f'Since this error is greater than {baseline_mae}, we can see that bathrooms is not a great predictor of price - we get a better prediction by just using the mean price.')"
      ],
      "execution_count": 35,
      "outputs": [
        {
          "output_type": "stream",
          "text": [
            "Using a linear regression to predict the price from the number of bathrooms, the intercept is [486.93308019] and the slope is [2573.3619831].\n",
            "The mean error is 3578.3834524858144.\n",
            "Since this error is greater than 1201.532252154329, we can see that bathrooms is not a great predictor of price - we get a better prediction by just using the mean price.\n"
          ],
          "name": "stdout"
        }
      ]
    },
    {
      "cell_type": "code",
      "metadata": {
        "id": "75OVlOml6WEF"
      },
      "source": [
        "df.drop(columns = ['created', 'description'], inplace = True)\n",
        "bathrooms = df[['bathrooms']]\n",
        "bedrooms = df[['bedrooms']]\n",
        "latitude = df[['latitude']]\n",
        "longitude = df[['longitude']]\n",
        "elevator = df[['elevator']]\n",
        "cats = df[['cats_allowed']]\n",
        "dogs = df[['dogs_allowed']]\n",
        "floors = df[['hardwood_floors']]\n",
        "doorman = df[['doorman']]\n",
        "dishwasher = df[['dishwasher']]\n",
        "fee = df[['no_fee']]\n",
        "laundry_b = df[['laundry_in_building']]\n",
        "gym = df[['fitness_center']]\n",
        "laundry_r = df[['laundry_in_unit']]\n",
        "roof = df[['roof_deck']]\n",
        "outdoor = df[['outdoor_space']]\n",
        "dining = df[['dining_room']]\n",
        "internet = df[['high_speed_internet']]\n",
        "balcony = df[['balcony']]\n",
        "pool = df[['swimming_pool']]\n",
        "terrace = df[['terrace']]\n",
        "exclusive = df[['exclusive']]\n",
        "loft = df[['loft']]\n",
        "garden = df[['garden_patio']]\n",
        "wheelchair = df[['wheelchair_access']]\n",
        "common = df[['common_outdoor_space']]\n",
        "#I want to test other variables but I got an error, will try to fix later. "
      ],
      "execution_count": null,
      "outputs": []
    },
    {
      "cell_type": "code",
      "metadata": {
        "colab": {
          "base_uri": "https://localhost:8080/",
          "height": 313
        },
        "id": "-mrybrJC6drG",
        "outputId": "b8076cf8-8683-4b48-81dc-64653cc81e33"
      },
      "source": [
        "df.head()"
      ],
      "execution_count": 42,
      "outputs": [
        {
          "output_type": "execute_result",
          "data": {
            "text/html": [
              "<div>\n",
              "<style scoped>\n",
              "    .dataframe tbody tr th:only-of-type {\n",
              "        vertical-align: middle;\n",
              "    }\n",
              "\n",
              "    .dataframe tbody tr th {\n",
              "        vertical-align: top;\n",
              "    }\n",
              "\n",
              "    .dataframe thead th {\n",
              "        text-align: right;\n",
              "    }\n",
              "</style>\n",
              "<table border=\"1\" class=\"dataframe\">\n",
              "  <thead>\n",
              "    <tr style=\"text-align: right;\">\n",
              "      <th></th>\n",
              "      <th>bathrooms</th>\n",
              "      <th>bedrooms</th>\n",
              "      <th>display_address</th>\n",
              "      <th>latitude</th>\n",
              "      <th>longitude</th>\n",
              "      <th>price</th>\n",
              "      <th>street_address</th>\n",
              "      <th>interest_level</th>\n",
              "      <th>elevator</th>\n",
              "      <th>cats_allowed</th>\n",
              "      <th>hardwood_floors</th>\n",
              "      <th>dogs_allowed</th>\n",
              "      <th>doorman</th>\n",
              "      <th>dishwasher</th>\n",
              "      <th>no_fee</th>\n",
              "      <th>laundry_in_building</th>\n",
              "      <th>fitness_center</th>\n",
              "      <th>pre-war</th>\n",
              "      <th>laundry_in_unit</th>\n",
              "      <th>roof_deck</th>\n",
              "      <th>outdoor_space</th>\n",
              "      <th>dining_room</th>\n",
              "      <th>high_speed_internet</th>\n",
              "      <th>balcony</th>\n",
              "      <th>swimming_pool</th>\n",
              "      <th>new_construction</th>\n",
              "      <th>terrace</th>\n",
              "      <th>exclusive</th>\n",
              "      <th>loft</th>\n",
              "      <th>garden_patio</th>\n",
              "      <th>wheelchair_access</th>\n",
              "      <th>common_outdoor_space</th>\n",
              "    </tr>\n",
              "  </thead>\n",
              "  <tbody>\n",
              "    <tr>\n",
              "      <th>0</th>\n",
              "      <td>1.5</td>\n",
              "      <td>3</td>\n",
              "      <td>Metropolitan Avenue</td>\n",
              "      <td>40.7145</td>\n",
              "      <td>-73.9425</td>\n",
              "      <td>3000</td>\n",
              "      <td>792 Metropolitan Avenue</td>\n",
              "      <td>medium</td>\n",
              "      <td>0</td>\n",
              "      <td>0</td>\n",
              "      <td>0</td>\n",
              "      <td>0</td>\n",
              "      <td>0</td>\n",
              "      <td>0</td>\n",
              "      <td>0</td>\n",
              "      <td>0</td>\n",
              "      <td>0</td>\n",
              "      <td>0</td>\n",
              "      <td>0</td>\n",
              "      <td>0</td>\n",
              "      <td>0</td>\n",
              "      <td>0</td>\n",
              "      <td>0</td>\n",
              "      <td>0</td>\n",
              "      <td>0</td>\n",
              "      <td>0</td>\n",
              "      <td>0</td>\n",
              "      <td>0</td>\n",
              "      <td>0</td>\n",
              "      <td>0</td>\n",
              "      <td>0</td>\n",
              "      <td>0</td>\n",
              "    </tr>\n",
              "    <tr>\n",
              "      <th>1</th>\n",
              "      <td>1.0</td>\n",
              "      <td>2</td>\n",
              "      <td>Columbus Avenue</td>\n",
              "      <td>40.7947</td>\n",
              "      <td>-73.9667</td>\n",
              "      <td>5465</td>\n",
              "      <td>808 Columbus Avenue</td>\n",
              "      <td>low</td>\n",
              "      <td>1</td>\n",
              "      <td>1</td>\n",
              "      <td>0</td>\n",
              "      <td>1</td>\n",
              "      <td>1</td>\n",
              "      <td>0</td>\n",
              "      <td>0</td>\n",
              "      <td>0</td>\n",
              "      <td>1</td>\n",
              "      <td>0</td>\n",
              "      <td>0</td>\n",
              "      <td>0</td>\n",
              "      <td>0</td>\n",
              "      <td>0</td>\n",
              "      <td>0</td>\n",
              "      <td>0</td>\n",
              "      <td>0</td>\n",
              "      <td>0</td>\n",
              "      <td>0</td>\n",
              "      <td>0</td>\n",
              "      <td>0</td>\n",
              "      <td>0</td>\n",
              "      <td>0</td>\n",
              "      <td>0</td>\n",
              "    </tr>\n",
              "    <tr>\n",
              "      <th>2</th>\n",
              "      <td>1.0</td>\n",
              "      <td>1</td>\n",
              "      <td>W 13 Street</td>\n",
              "      <td>40.7388</td>\n",
              "      <td>-74.0018</td>\n",
              "      <td>2850</td>\n",
              "      <td>241 W 13 Street</td>\n",
              "      <td>high</td>\n",
              "      <td>0</td>\n",
              "      <td>0</td>\n",
              "      <td>1</td>\n",
              "      <td>0</td>\n",
              "      <td>0</td>\n",
              "      <td>1</td>\n",
              "      <td>0</td>\n",
              "      <td>1</td>\n",
              "      <td>0</td>\n",
              "      <td>0</td>\n",
              "      <td>0</td>\n",
              "      <td>0</td>\n",
              "      <td>0</td>\n",
              "      <td>0</td>\n",
              "      <td>0</td>\n",
              "      <td>0</td>\n",
              "      <td>0</td>\n",
              "      <td>0</td>\n",
              "      <td>0</td>\n",
              "      <td>0</td>\n",
              "      <td>0</td>\n",
              "      <td>0</td>\n",
              "      <td>0</td>\n",
              "      <td>0</td>\n",
              "    </tr>\n",
              "    <tr>\n",
              "      <th>3</th>\n",
              "      <td>1.0</td>\n",
              "      <td>1</td>\n",
              "      <td>East 49th Street</td>\n",
              "      <td>40.7539</td>\n",
              "      <td>-73.9677</td>\n",
              "      <td>3275</td>\n",
              "      <td>333 East 49th Street</td>\n",
              "      <td>low</td>\n",
              "      <td>0</td>\n",
              "      <td>0</td>\n",
              "      <td>1</td>\n",
              "      <td>0</td>\n",
              "      <td>0</td>\n",
              "      <td>0</td>\n",
              "      <td>1</td>\n",
              "      <td>0</td>\n",
              "      <td>0</td>\n",
              "      <td>0</td>\n",
              "      <td>0</td>\n",
              "      <td>0</td>\n",
              "      <td>0</td>\n",
              "      <td>0</td>\n",
              "      <td>0</td>\n",
              "      <td>0</td>\n",
              "      <td>0</td>\n",
              "      <td>0</td>\n",
              "      <td>0</td>\n",
              "      <td>0</td>\n",
              "      <td>0</td>\n",
              "      <td>0</td>\n",
              "      <td>0</td>\n",
              "      <td>0</td>\n",
              "    </tr>\n",
              "    <tr>\n",
              "      <th>4</th>\n",
              "      <td>1.0</td>\n",
              "      <td>4</td>\n",
              "      <td>West 143rd Street</td>\n",
              "      <td>40.8241</td>\n",
              "      <td>-73.9493</td>\n",
              "      <td>3350</td>\n",
              "      <td>500 West 143rd Street</td>\n",
              "      <td>low</td>\n",
              "      <td>0</td>\n",
              "      <td>0</td>\n",
              "      <td>0</td>\n",
              "      <td>0</td>\n",
              "      <td>0</td>\n",
              "      <td>0</td>\n",
              "      <td>0</td>\n",
              "      <td>0</td>\n",
              "      <td>0</td>\n",
              "      <td>1</td>\n",
              "      <td>0</td>\n",
              "      <td>0</td>\n",
              "      <td>0</td>\n",
              "      <td>0</td>\n",
              "      <td>0</td>\n",
              "      <td>0</td>\n",
              "      <td>0</td>\n",
              "      <td>0</td>\n",
              "      <td>0</td>\n",
              "      <td>0</td>\n",
              "      <td>0</td>\n",
              "      <td>0</td>\n",
              "      <td>0</td>\n",
              "      <td>0</td>\n",
              "    </tr>\n",
              "  </tbody>\n",
              "</table>\n",
              "</div>"
            ],
            "text/plain": [
              "   bathrooms  bedrooms  ... wheelchair_access  common_outdoor_space\n",
              "0        1.5         3  ...                 0                     0\n",
              "1        1.0         2  ...                 0                     0\n",
              "2        1.0         1  ...                 0                     0\n",
              "3        1.0         1  ...                 0                     0\n",
              "4        1.0         4  ...                 0                     0\n",
              "\n",
              "[5 rows x 32 columns]"
            ]
          },
          "metadata": {
            "tags": []
          },
          "execution_count": 42
        }
      ]
    },
    {
      "cell_type": "code",
      "metadata": {
        "colab": {
          "base_uri": "https://localhost:8080/"
        },
        "id": "gnzyJaIv6tfN",
        "outputId": "e6763795-0d5e-446d-9971-2571bfd0796c"
      },
      "source": [
        "df.nunique()"
      ],
      "execution_count": 38,
      "outputs": [
        {
          "output_type": "execute_result",
          "data": {
            "text/plain": [
              "bathrooms                  11\n",
              "bedrooms                    9\n",
              "created                 48148\n",
              "description             37853\n",
              "display_address          8674\n",
              "latitude                 2265\n",
              "longitude                1605\n",
              "price                    2685\n",
              "street_address          15135\n",
              "interest_level              3\n",
              "elevator                    2\n",
              "cats_allowed                2\n",
              "hardwood_floors             2\n",
              "dogs_allowed                2\n",
              "doorman                     2\n",
              "dishwasher                  2\n",
              "no_fee                      2\n",
              "laundry_in_building         2\n",
              "fitness_center              2\n",
              "pre-war                     2\n",
              "laundry_in_unit             2\n",
              "roof_deck                   2\n",
              "outdoor_space               2\n",
              "dining_room                 2\n",
              "high_speed_internet         2\n",
              "balcony                     2\n",
              "swimming_pool               2\n",
              "new_construction            2\n",
              "terrace                     2\n",
              "exclusive                   2\n",
              "loft                        2\n",
              "garden_patio                2\n",
              "wheelchair_access           2\n",
              "common_outdoor_space        2\n",
              "dtype: int64"
            ]
          },
          "metadata": {
            "tags": []
          },
          "execution_count": 38
        }
      ]
    }
  ]
}